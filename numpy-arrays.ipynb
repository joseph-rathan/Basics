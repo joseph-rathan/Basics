{
 "cells": [
  {
   "cell_type": "code",
   "execution_count": 1,
   "metadata": {},
   "outputs": [
    {
     "name": "stdout",
     "output_type": "stream",
     "text": [
      "Hello World\n"
     ]
    }
   ],
   "source": [
    "test = \"Hello World\"\n",
    "print(test)"
   ]
  },
  {
   "cell_type": "code",
   "execution_count": 2,
   "metadata": {},
   "outputs": [],
   "source": [
    "import numpy as np"
   ]
  },
  {
   "cell_type": "markdown",
   "metadata": {},
   "source": [
    "# Basics of Numpy #"
   ]
  },
  {
   "cell_type": "code",
   "execution_count": 3,
   "metadata": {},
   "outputs": [
    {
     "name": "stdout",
     "output_type": "stream",
     "text": [
      "[1 2 3]\n"
     ]
    }
   ],
   "source": [
    "single = np.array([1, 2, 3])\n",
    "print(single)"
   ]
  },
  {
   "cell_type": "code",
   "execution_count": 19,
   "metadata": {},
   "outputs": [
    {
     "name": "stdout",
     "output_type": "stream",
     "text": [
      "[0 1 2 3 4]\n",
      "[ 0  4  8 12 16]\n",
      "[ 0.  4.  8. 12. 16.]\n"
     ]
    }
   ],
   "source": [
    "single = np.arange(5)\n",
    "print(single)\n",
    "\n",
    "single = np.arange(0, 20, 4)\n",
    "print(single)\n",
    "\n",
    "single = np.arange(0, 20, 4, dtype=float)\n",
    "print(single)"
   ]
  },
  {
   "cell_type": "code",
   "execution_count": 18,
   "metadata": {},
   "outputs": [
    {
     "name": "stdout",
     "output_type": "stream",
     "text": [
      "[ 0.          1.11111111  2.22222222  3.33333333  4.44444444  5.55555556\n",
      "  6.66666667  7.77777778  8.88888889 10.        ]\n",
      "[ 0  1  2  3  4  5  6  7  8 10]\n"
     ]
    }
   ],
   "source": [
    "lsarray = np.linspace(0, 10, 10)\n",
    "print(lsarray)\n",
    "\n",
    "lsarray = np.linspace(0, 10, 10, dtype=int)\n",
    "print(lsarray)"
   ]
  },
  {
   "cell_type": "code",
   "execution_count": 23,
   "metadata": {},
   "outputs": [
    {
     "name": "stdout",
     "output_type": "stream",
     "text": [
      "[1. 1. 1. 1. 1.]\n",
      "[0. 0. 0. 0. 0.]\n",
      "[0. 0. 0. 0. 0.]\n",
      "[0.11784345 0.19936542 0.94922848 0.73441835 0.61405781]\n"
     ]
    }
   ],
   "source": [
    "print(np.ones(5))\n",
    "print(np.zeros(5))\n",
    "print(np.empty(5))\n",
    "print(np.random.rand(5))"
   ]
  },
  {
   "cell_type": "code",
   "execution_count": 24,
   "metadata": {},
   "outputs": [
    {
     "name": "stdout",
     "output_type": "stream",
     "text": [
      "[[1 2 3]\n",
      " [4 5 6]]\n"
     ]
    }
   ],
   "source": [
    "dim2 = np.array([[1, 2, 3], [4, 5, 6]])\n",
    "print(dim2)"
   ]
  },
  {
   "cell_type": "code",
   "execution_count": 50,
   "metadata": {},
   "outputs": [
    {
     "name": "stdout",
     "output_type": "stream",
     "text": [
      "[ 1  3  5  7  9 11 13 15 17 19 21 23]\n",
      "[[ 1  3  5  7]\n",
      " [ 9 11 13 15]\n",
      " [17 19 21 23]]\n",
      "1 2 3\n",
      "(12,) (3, 4) (3, 2, 2)\n",
      "12 12 12\n"
     ]
    }
   ],
   "source": [
    "dim1 = np.arange(1, 24, 2)\n",
    "dim2 = dim1.reshape(3, 4)\n",
    "dim3 = dim1.reshape(3, 2, 2)\n",
    "print(dim1)\n",
    "print(dim2)\n",
    "print(dim1.ndim, dim2.ndim, dim3.ndim)\n",
    "print(dim1.shape, dim2.shape, dim3.shape)\n",
    "print(dim1.size, dim2.size, dim3.size)"
   ]
  },
  {
   "cell_type": "code",
   "execution_count": 48,
   "metadata": {},
   "outputs": [
    {
     "name": "stdout",
     "output_type": "stream",
     "text": [
      "[3 5 7]\n",
      "[ 3  7 11 15 19]\n",
      "[1 3 5 7 9]\n",
      "[11 13 15 17 19 21 23]\n",
      "[23 21 19 17 15 13 11  9  7  5  3  1]\n",
      "23\n",
      "[ 1  3  5  7  9 11 13 15 17 19 21 23]\n",
      "[ True  True  True  True  True  True  True  True  True  True  True  True]\n"
     ]
    }
   ],
   "source": [
    "print(dim1[1:4])\n",
    "print(dim1[1:10:2])\n",
    "print(dim1[:5])\n",
    "print(dim1[5:])\n",
    "print(dim1[::-1])\n",
    "print(dim1[-1])\n",
    "print(dim1[::])\n",
    "print(dim1 == dim1[:])"
   ]
  },
  {
   "cell_type": "code",
   "execution_count": 70,
   "metadata": {},
   "outputs": [
    {
     "name": "stdout",
     "output_type": "stream",
     "text": [
      "[[ 9 11 13 15]\n",
      " [17 19 21 23]]\n",
      "[[ 1  3  5  7]\n",
      " [17 19 21 23]]\n",
      "[[ 1  5]\n",
      " [17 21]]\n",
      "[[ 1  5]\n",
      " [ 9 13]\n",
      " [17 21]]\n",
      "[[ 7  5]\n",
      " [15 13]\n",
      " [23 21]]\n"
     ]
    }
   ],
   "source": [
    "print(dim2[1:3])\n",
    "print(dim2[0:3:2])\n",
    "print(dim2[0:3:2,0:3:2])\n",
    "print(dim2[::,0:4:2])\n",
    "print(dim2[::,:1:-1])"
   ]
  },
  {
   "cell_type": "code",
   "execution_count": 84,
   "metadata": {},
   "outputs": [
    {
     "name": "stdout",
     "output_type": "stream",
     "text": [
      "[[[ 3  1]\n",
      "  [ 7  5]]\n",
      "\n",
      " [[11  9]\n",
      "  [15 13]]\n",
      "\n",
      " [[19 17]\n",
      "  [23 21]]]\n"
     ]
    }
   ],
   "source": [
    "print(dim3[::,::,::-1])"
   ]
  },
  {
   "cell_type": "code",
   "execution_count": 96,
   "metadata": {},
   "outputs": [
    {
     "name": "stdout",
     "output_type": "stream",
     "text": [
      "[[ 1  5]\n",
      " [ 9 13]\n",
      " [17 21]\n",
      " [ 7  5]\n",
      " [15 13]\n",
      " [23 21]]\n",
      "[[ 1  5  7  5]\n",
      " [ 9 13 15 13]\n",
      " [17 21 23 21]]\n",
      "[array([[ 1],\n",
      "       [ 9],\n",
      "       [17]]), array([[ 5],\n",
      "       [13],\n",
      "       [21]]), array([[ 7],\n",
      "       [15],\n",
      "       [23]]), array([[ 5],\n",
      "       [13],\n",
      "       [21]])]\n"
     ]
    }
   ],
   "source": [
    "print(np.vstack((dim2[::,0:4:2], dim2[::,:1:-1])))\n",
    "dim21 = np.hstack((dim2[::,0:4:2], dim2[::,:1:-1]))\n",
    "print(dim21)\n",
    "print(np.hsplit(dim21, 4))"
   ]
  },
  {
   "cell_type": "markdown",
   "metadata": {},
   "source": []
  },
  {
   "cell_type": "code",
   "execution_count": 97,
   "metadata": {},
   "outputs": [
    {
     "name": "stdout",
     "output_type": "stream",
     "text": [
      "Solution: [-1.  2.]\n"
     ]
    }
   ],
   "source": [
    "A = np.array([\n",
    "        [-1, 3],\n",
    "        [3, 2]\n",
    "    ], dtype=np.dtype(float))\n",
    "\n",
    "b = np.array([7, 1], dtype=np.dtype(float))\n",
    "\n",
    "x = np.linalg.solve(A, b)\n",
    "\n",
    "print(f\"Solution: {x}\")"
   ]
  }
 ],
 "metadata": {
  "kernelspec": {
   "display_name": "venv",
   "language": "python",
   "name": "python3"
  },
  "language_info": {
   "codemirror_mode": {
    "name": "ipython",
    "version": 3
   },
   "file_extension": ".py",
   "mimetype": "text/x-python",
   "name": "python",
   "nbconvert_exporter": "python",
   "pygments_lexer": "ipython3",
   "version": "3.10.0"
  }
 },
 "nbformat": 4,
 "nbformat_minor": 2
}
