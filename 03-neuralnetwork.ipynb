{
 "cells": [
  {
   "cell_type": "code",
   "execution_count": 3,
   "metadata": {},
   "outputs": [
    {
     "data": {
      "text/html": [
       "<div>\n",
       "<style scoped>\n",
       "    .dataframe tbody tr th:only-of-type {\n",
       "        vertical-align: middle;\n",
       "    }\n",
       "\n",
       "    .dataframe tbody tr th {\n",
       "        vertical-align: top;\n",
       "    }\n",
       "\n",
       "    .dataframe thead th {\n",
       "        text-align: right;\n",
       "    }\n",
       "</style>\n",
       "<table border=\"1\" class=\"dataframe\">\n",
       "  <thead>\n",
       "    <tr style=\"text-align: right;\">\n",
       "      <th></th>\n",
       "      <th>tmax</th>\n",
       "      <th>tmin</th>\n",
       "      <th>rain</th>\n",
       "      <th>tmax_tomorrow</th>\n",
       "    </tr>\n",
       "  </thead>\n",
       "  <tbody>\n",
       "    <tr>\n",
       "      <th>1970-01-01</th>\n",
       "      <td>60.0</td>\n",
       "      <td>35.0</td>\n",
       "      <td>0.0</td>\n",
       "      <td>52.0</td>\n",
       "    </tr>\n",
       "    <tr>\n",
       "      <th>1970-01-02</th>\n",
       "      <td>52.0</td>\n",
       "      <td>39.0</td>\n",
       "      <td>0.0</td>\n",
       "      <td>52.0</td>\n",
       "    </tr>\n",
       "    <tr>\n",
       "      <th>1970-01-03</th>\n",
       "      <td>52.0</td>\n",
       "      <td>35.0</td>\n",
       "      <td>0.0</td>\n",
       "      <td>53.0</td>\n",
       "    </tr>\n",
       "    <tr>\n",
       "      <th>1970-01-04</th>\n",
       "      <td>53.0</td>\n",
       "      <td>36.0</td>\n",
       "      <td>0.0</td>\n",
       "      <td>52.0</td>\n",
       "    </tr>\n",
       "    <tr>\n",
       "      <th>1970-01-05</th>\n",
       "      <td>52.0</td>\n",
       "      <td>35.0</td>\n",
       "      <td>0.0</td>\n",
       "      <td>50.0</td>\n",
       "    </tr>\n",
       "  </tbody>\n",
       "</table>\n",
       "</div>"
      ],
      "text/plain": [
       "            tmax  tmin  rain  tmax_tomorrow\n",
       "1970-01-01  60.0  35.0   0.0           52.0\n",
       "1970-01-02  52.0  39.0   0.0           52.0\n",
       "1970-01-03  52.0  35.0   0.0           53.0\n",
       "1970-01-04  53.0  36.0   0.0           52.0\n",
       "1970-01-05  52.0  35.0   0.0           50.0"
      ]
     },
     "execution_count": 3,
     "metadata": {},
     "output_type": "execute_result"
    }
   ],
   "source": [
    "import pandas as pd\n",
    "\n",
    "data = pd.read_csv(\"dataset/clean_weather.csv\", index_col=0)\n",
    "data.head(5)"
   ]
  },
  {
   "cell_type": "code",
   "execution_count": 4,
   "metadata": {},
   "outputs": [
    {
     "data": {
      "text/plain": [
       "tmax              11\n",
       "tmin              14\n",
       "rain             281\n",
       "tmax_tomorrow     11\n",
       "dtype: int64"
      ]
     },
     "execution_count": 4,
     "metadata": {},
     "output_type": "execute_result"
    }
   ],
   "source": [
    "data.isnull().sum()"
   ]
  },
  {
   "cell_type": "code",
   "execution_count": 5,
   "metadata": {},
   "outputs": [],
   "source": [
    "data.fillna({\"tmax\":data.tmax.median()}, inplace=True)\n",
    "data.fillna({\"tmin\":data.tmin.median()}, inplace=True)\n",
    "data.fillna({\"rain\":data.rain.median()}, inplace=True)\n",
    "data.fillna({\"tmax_tomorrow\":data.tmax_tomorrow.median()}, inplace=True)"
   ]
  },
  {
   "cell_type": "code",
   "execution_count": 6,
   "metadata": {},
   "outputs": [
    {
     "data": {
      "text/html": [
       "<div>\n",
       "<style scoped>\n",
       "    .dataframe tbody tr th:only-of-type {\n",
       "        vertical-align: middle;\n",
       "    }\n",
       "\n",
       "    .dataframe tbody tr th {\n",
       "        vertical-align: top;\n",
       "    }\n",
       "\n",
       "    .dataframe thead th {\n",
       "        text-align: right;\n",
       "    }\n",
       "</style>\n",
       "<table border=\"1\" class=\"dataframe\">\n",
       "  <thead>\n",
       "    <tr style=\"text-align: right;\">\n",
       "      <th></th>\n",
       "      <th>tmax</th>\n",
       "      <th>tmin</th>\n",
       "      <th>rain</th>\n",
       "      <th>tmax_tomorrow</th>\n",
       "    </tr>\n",
       "  </thead>\n",
       "  <tbody>\n",
       "    <tr>\n",
       "      <th>tmax</th>\n",
       "      <td>1.000000</td>\n",
       "      <td>0.614947</td>\n",
       "      <td>-0.219145</td>\n",
       "      <td>0.818052</td>\n",
       "    </tr>\n",
       "    <tr>\n",
       "      <th>tmin</th>\n",
       "      <td>0.614947</td>\n",
       "      <td>1.000000</td>\n",
       "      <td>-0.019683</td>\n",
       "      <td>0.584489</td>\n",
       "    </tr>\n",
       "    <tr>\n",
       "      <th>rain</th>\n",
       "      <td>-0.219145</td>\n",
       "      <td>-0.019683</td>\n",
       "      <td>1.000000</td>\n",
       "      <td>-0.210645</td>\n",
       "    </tr>\n",
       "    <tr>\n",
       "      <th>tmax_tomorrow</th>\n",
       "      <td>0.818052</td>\n",
       "      <td>0.584489</td>\n",
       "      <td>-0.210645</td>\n",
       "      <td>1.000000</td>\n",
       "    </tr>\n",
       "  </tbody>\n",
       "</table>\n",
       "</div>"
      ],
      "text/plain": [
       "                   tmax      tmin      rain  tmax_tomorrow\n",
       "tmax           1.000000  0.614947 -0.219145       0.818052\n",
       "tmin           0.614947  1.000000 -0.019683       0.584489\n",
       "rain          -0.219145 -0.019683  1.000000      -0.210645\n",
       "tmax_tomorrow  0.818052  0.584489 -0.210645       1.000000"
      ]
     },
     "execution_count": 6,
     "metadata": {},
     "output_type": "execute_result"
    }
   ],
   "source": [
    "data.corr()"
   ]
  },
  {
   "cell_type": "code",
   "execution_count": 7,
   "metadata": {},
   "outputs": [
    {
     "data": {
      "text/plain": [
       "[<matplotlib.lines.Line2D at 0x751018469960>]"
      ]
     },
     "execution_count": 7,
     "metadata": {},
     "output_type": "execute_result"
    },
    {
     "data": {
      "image/png": "[encoded data removed]",
      "text/plain": [
       "<Figure size 640x480 with 1 Axes>"
      ]
     },
     "metadata": {},
     "output_type": "display_data"
    }
   ],
   "source": [
    "import matplotlib.pyplot as plt\n",
    "\n",
    "data.plot.scatter('tmax', 'tmax_tomorrow')\n",
    "predict = lambda x, w = .82, b = 12.02: x * w + b\n",
    "\n",
    "plt.plot([30,120], [predict(30), predict(120)], \"red\")\n"
   ]
  },
  {
   "cell_type": "code",
   "execution_count": 8,
   "metadata": {},
   "outputs": [
    {
     "name": "stdout",
     "output_type": "stream",
     "text": [
      "22.903935450440443\n"
     ]
    }
   ],
   "source": [
    "import numpy as np\n",
    "\n",
    "def mse(actual, predicted):\n",
    "    return np.mean((actual - predicted) ** 2)\n",
    "\n",
    "print(mse(data[\"tmax_tomorrow\"], predict(data[\"tmax\"])))"
   ]
  },
  {
   "cell_type": "code",
   "execution_count": 9,
   "metadata": {},
   "outputs": [
    {
     "name": "stderr",
     "output_type": "stream",
     "text": [
      "/tmp/ipykernel_5766/3445082901.py:4: FutureWarning: The default of observed=False is deprecated and will be changed to True in a future version of pandas. Pass observed=False to retain current behavior or observed=True to adopt the future default and silence this warning.\n",
      "  binned_ratios = ratios.groupby(tmax_bins).mean()\n",
      "/tmp/ipykernel_5766/3445082901.py:5: FutureWarning: The default of observed=False is deprecated and will be changed to True in a future version of pandas. Pass observed=False to retain current behavior or observed=True to adopt the future default and silence this warning.\n",
      "  binned_tmax = data['tmax'].groupby(tmax_bins).mean()\n"
     ]
    },
    {
     "data": {
      "text/plain": [
       "<matplotlib.collections.PathCollection at 0x7510183ffdc0>"
      ]
     },
     "execution_count": 9,
     "metadata": {},
     "output_type": "execute_result"
    },
    {
     "data": {
      "image/png": "[encoded data removed]",
      "text/plain": [
       "<Figure size 640x480 with 1 Axes>"
      ]
     },
     "metadata": {},
     "output_type": "display_data"
    }
   ],
   "source": [
    "import pandas as pd\n",
    "tmax_bins = pd.cut(data['tmax'], bins=25)\n",
    "ratios = ((data['tmax_tomorrow'] - 12.02) / data['tmax'])\n",
    "binned_ratios = ratios.groupby(tmax_bins).mean()\n",
    "binned_tmax = data['tmax'].groupby(tmax_bins).mean()\n",
    "plt.scatter(binned_tmax, binned_ratios)"
   ]
  },
  {
   "cell_type": "code",
   "execution_count": 10,
   "metadata": {},
   "outputs": [
    {
     "data": {
      "text/plain": [
       "[<matplotlib.lines.Line2D at 0x751018276b60>]"
      ]
     },
     "execution_count": 10,
     "metadata": {},
     "output_type": "execute_result"
    },
    {
     "data": {
      "image/png": "[encoded data removed]",
      "text/plain": [
       "<Figure size 640x480 with 1 Axes>"
      ]
     },
     "metadata": {},
     "output_type": "display_data"
    }
   ],
   "source": [
    "# y = relu (w * x + b)\n",
    "temps = np.arange(-50, 50)\n",
    "plt.plot(temps, np.maximum(0,predict(temps)))"
   ]
  },
  {
   "cell_type": "code",
   "execution_count": 11,
   "metadata": {},
   "outputs": [
    {
     "data": {
      "text/plain": [
       "(0.0, 40.0)"
      ]
     },
     "execution_count": 11,
     "metadata": {},
     "output_type": "execute_result"
    },
    {
     "data": {
      "image/png": "[encoded data removed]",
      "text/plain": [
       "<Figure size 640x480 with 1 Axes>"
      ]
     },
     "metadata": {},
     "output_type": "display_data"
    }
   ],
   "source": [
    "# y = w2 * relu(w1 * x + b1) + b2\n",
    "\n",
    "temps = np.arange(-50, 50)\n",
    "layer1 = np.maximum(0,predict(temps))\n",
    "layer2 = predict(layer1, .5, 10)\n",
    "plt.plot(temps, layer2)\n",
    "plt.ylim(0, 40)"
   ]
  },
  {
   "cell_type": "code",
   "execution_count": 12,
   "metadata": {},
   "outputs": [
    {
     "data": {
      "text/plain": [
       "[<matplotlib.lines.Line2D at 0x75101815f1c0>]"
      ]
     },
     "execution_count": 12,
     "metadata": {},
     "output_type": "execute_result"
    },
    {
     "data": {
      "image/png": "[encoded data removed]",
      "text/plain": [
       "<Figure size 640x480 with 1 Axes>"
      ]
     },
     "metadata": {},
     "output_type": "display_data"
    }
   ],
   "source": [
    "layer1_1 = np.maximum(0,predict(temps))\n",
    "layer1_2 = np.maximum(0,predict(temps,.1,10))\n",
    "plt.plot(temps, layer1_1)\n",
    "plt.plot(temps, layer1_2, \"red\")\n",
    "plt.plot(temps, layer1_1 + layer1_2, \"green\")"
   ]
  },
  {
   "cell_type": "code",
   "execution_count": 13,
   "metadata": {},
   "outputs": [
    {
     "name": "stdout",
     "output_type": "stream",
     "text": [
      "[[77.62 18.  ]\n",
      " [85.82 19.  ]\n",
      " [94.02 20.  ]\n",
      " [-4.38  8.  ]\n",
      " [ 3.82  9.  ]]\n"
     ]
    }
   ],
   "source": [
    "input = np.array([[80], [90], [100], [-20], [-10]])\n",
    "l1_weights = np.array([[.82, 0.1]])\n",
    "l1_bias = np.array([[12.02, 10]])\n",
    "\n",
    "l1_output = input @ l1_weights + l1_bias\n",
    "print(l1_output)"
   ]
  },
  {
   "cell_type": "code",
   "execution_count": 14,
   "metadata": {},
   "outputs": [
    {
     "name": "stdout",
     "output_type": "stream",
     "text": [
      "[[77.62 18.  ]\n",
      " [85.82 19.  ]\n",
      " [94.02 20.  ]\n",
      " [ 0.    8.  ]\n",
      " [ 3.82  9.  ]]\n"
     ]
    }
   ],
   "source": [
    "l1_activated = np.maximum(l1_output, 0)\n",
    "print(l1_activated)"
   ]
  },
  {
   "cell_type": "code",
   "execution_count": 15,
   "metadata": {},
   "outputs": [
    {
     "name": "stdout",
     "output_type": "stream",
     "text": [
      "[[47.41]\n",
      " [51.71]\n",
      " [56.01]\n",
      " [ 6.6 ]\n",
      " [ 8.71]]\n"
     ]
    }
   ],
   "source": [
    "l2_weights = np.array([\n",
    "    [.5],\n",
    "    [.2]\n",
    "])\n",
    "\n",
    "l2_bias = np.array([[5]])\n",
    "l2_output = l1_activated @ l2_weights + l2_bias\n",
    "print(l2_output)"
   ]
  },
  {
   "cell_type": "code",
   "execution_count": 16,
   "metadata": {},
   "outputs": [],
   "source": [
    "tmax = np.array([[80], [90], [100], [-20], [-10]])\n",
    "tmax_tomorrow = np.array([[83], [89], [95], [-22], [-9]])"
   ]
  },
  {
   "cell_type": "code",
   "execution_count": 17,
   "metadata": {},
   "outputs": [],
   "source": [
    "def mse(actual, predicted):\n",
    "    return (actual - predicted) ** 2"
   ]
  },
  {
   "cell_type": "code",
   "execution_count": 18,
   "metadata": {},
   "outputs": [
    {
     "data": {
      "text/plain": [
       "array([[1266.6481],\n",
       "       [1390.5441],\n",
       "       [1520.2201],\n",
       "       [ 817.96  ],\n",
       "       [ 313.6441]])"
      ]
     },
     "execution_count": 18,
     "metadata": {},
     "output_type": "execute_result"
    }
   ],
   "source": [
    "mse(tmax_tomorrow, l2_output)"
   ]
  },
  {
   "cell_type": "code",
   "execution_count": 25,
   "metadata": {},
   "outputs": [
    {
     "name": "stdout",
     "output_type": "stream",
     "text": [
      "[[-35.59]\n",
      " [-37.29]\n",
      " [-38.99]\n",
      " [ 28.6 ]\n",
      " [ 17.71]]\n",
      "[[77.62 85.82 94.02  0.    3.82]\n",
      " [18.   19.   20.    8.    9.  ]]\n"
     ]
    }
   ],
   "source": [
    "def mse_grad(actual, predicted):\n",
    "    return predicted - actual\n",
    "\n",
    "output_gradient = mse_grad(tmax_tomorrow, l2_output)\n",
    "print(output_gradient)\n",
    "print(l1_activated.T)"
   ]
  },
  {
   "cell_type": "code",
   "execution_count": 23,
   "metadata": {},
   "outputs": [
    {
     "name": "stdout",
     "output_type": "stream",
     "text": [
      "[[-9560.9112]\n",
      " [-1740.74  ]]\n"
     ]
    }
   ],
   "source": [
    "l2_w_gradient =  l1_activated.T @ output_gradient\n",
    "print(l2_w_gradient)"
   ]
  },
  {
   "cell_type": "code",
   "execution_count": 28,
   "metadata": {},
   "outputs": [
    {
     "name": "stdout",
     "output_type": "stream",
     "text": [
      "[-13.112]\n"
     ]
    }
   ],
   "source": [
    "l2_b_gradient =  np.mean(output_gradient, axis=0)\n",
    "print(l2_b_gradient)"
   ]
  },
  {
   "cell_type": "code",
   "execution_count": 30,
   "metadata": {},
   "outputs": [
    {
     "name": "stdout",
     "output_type": "stream",
     "text": [
      "l2_bias: [[5.00026224]]\n",
      "l2_weights: [[0.69121822]\n",
      " [0.2348148 ]]\n"
     ]
    }
   ],
   "source": [
    "# Set a learning rate\n",
    "lr = 1e-5\n",
    "# Update the bias values\n",
    "l2_bias = l2_bias - l2_b_gradient * lr\n",
    "# Update the weight values\n",
    "l2_weights = l2_weights - l2_w_gradient * lr\n",
    "\n",
    "print(f\"l2_bias: {l2_bias}\")\n",
    "print(f\"l2_weights: {l2_weights}\")"
   ]
  },
  {
   "cell_type": "code",
   "execution_count": null,
   "metadata": {},
   "outputs": [
    {
     "name": "stdout",
     "output_type": "stream",
     "text": [
      "[[-24.60045659  -8.35705873]\n",
      " [-25.77552757  -8.75624389]\n",
      " [-26.95059855  -9.15542905]\n",
      " [ 19.76884121   6.71570328]\n",
      " [ 12.24147475   4.15857011]]\n"
     ]
    }
   ],
   "source": [
    "# Calculate the gradient on the output of layer 1\n",
    "l1_activated_gradient = output_gradient @ l2_weights.T\n",
    "\n",
    "print(l1_activated_gradient)"
   ]
  },
  {
   "cell_type": "code",
   "execution_count": 32,
   "metadata": {},
   "outputs": [
    {
     "name": "stdout",
     "output_type": "stream",
     "text": [
      "[[-24.60045659  -8.35705873]\n",
      " [-25.77552757  -8.75624389]\n",
      " [-26.95059855  -9.15542905]\n",
      " [  0.           6.71570328]\n",
      " [ 12.24147475   4.15857011]]\n"
     ]
    }
   ],
   "source": [
    "l1_output_gradient = l1_activated_gradient * np.heaviside(l1_output, 0)\n",
    "print(l1_output_gradient)"
   ]
  },
  {
   "cell_type": "code",
   "execution_count": 34,
   "metadata": {},
   "outputs": [
    {
     "name": "stdout",
     "output_type": "stream",
     "text": [
      "l1_weights: [[0.96210617 0.15096139]]\n",
      "l1_bias: [[12.02026034 10.00006158]]\n"
     ]
    }
   ],
   "source": [
    "# Calculate gradients wrt weights and biases for layer 1\n",
    "l1_w_gradient =  input.T @ l1_output_gradient\n",
    "l1_b_gradient = np.mean(l1_output_gradient, axis=0)\n",
    "\n",
    "l1_weights -= l1_w_gradient * lr\n",
    "l1_bias -= l1_b_gradient * lr\n",
    "\n",
    "print(f\"l1_weights: {l1_weights}\")\n",
    "print(f\"l1_bias: {l1_bias}\")"
   ]
  },
  {
   "cell_type": "code",
   "execution_count": 58,
   "metadata": {},
   "outputs": [
    {
     "name": "stderr",
     "output_type": "stream",
     "text": [
      "/home/joseph/Source/Sample/ML/Basics/venv/lib/python3.10/site-packages/numpy/_core/fromnumeric.py:57: FutureWarning: 'DataFrame.swapaxes' is deprecated and will be removed in a future version. Please use 'DataFrame.transpose' instead.\n",
      "  return bound(*args, **kwds)\n"
     ]
    }
   ],
   "source": [
    "import numpy as np\n",
    "from sklearn.preprocessing import StandardScaler\n",
    "PREDICTORS = [\"tmax\", \"tmin\", \"rain\"]\n",
    "TARGET = \"tmax_tomorrow\"\n",
    "\n",
    "# Scale our data so relu works better\n",
    "# All temperature values in the original dataset are over 0, so relu won't do much for several epochs\n",
    "# Scaling will make some of the input data negative\n",
    "scaler = StandardScaler()\n",
    "data[PREDICTORS] = scaler.fit_transform(data[PREDICTORS])\n",
    "\n",
    "split_data = np.split(data, [int(.7 * len(data)), int(.85 * len(data))])\n",
    "(train_x, train_y), (valid_x, valid_y), (test_x, test_y) = [[d[PREDICTORS].to_numpy(), d[[TARGET]].to_numpy()] for d in\n",
    "                                                            split_data]"
   ]
  },
  {
   "cell_type": "code",
   "execution_count": null,
   "metadata": {},
   "outputs": [],
   "source": [
    "def init_layers(inputs):\n",
    "    layers = []\n",
    "    for i in range(1, len(inputs)):\n",
    "        layers.append([\n",
    "            np.random.rand(inputs[i-1], inputs[i]) / 5 - .1,\n",
    "            np.ones((1,inputs[i]))\n",
    "        ])\n",
    "    return layers\n",
    "\n",
    "# This will initialize weights and biases for a 3-layer neural network with 10 units in the first layer, 10 in the second, and 1 in the final\n",
    "# The first number (3) is our number of input features\n",
    "layer_conf = [3,10,10,1]"
   ]
  },
  {
   "cell_type": "code",
   "execution_count": 60,
   "metadata": {},
   "outputs": [],
   "source": [
    "def forward(batch, layers):\n",
    "    hidden = [batch.copy()]\n",
    "    for i in range(len(layers)):\n",
    "        batch = np.matmul(batch, layers[i][0]) + layers[i][1]\n",
    "        if i < len(layers) - 1:\n",
    "            batch = np.maximum(batch, 0)\n",
    "        # Store the forward pass hidden values for use in backprop\n",
    "        hidden.append(batch.copy())\n",
    "    return batch, hidden"
   ]
  },
  {
   "cell_type": "code",
   "execution_count": 61,
   "metadata": {},
   "outputs": [],
   "source": [
    "def mse(actual, predicted):\n",
    "    return (actual - predicted) ** 2\n",
    "\n",
    "def mse_grad(actual, predicted):\n",
    "    return predicted - actual"
   ]
  },
  {
   "cell_type": "code",
   "execution_count": 62,
   "metadata": {},
   "outputs": [],
   "source": [
    "def backward(layers, hidden, grad, lr):\n",
    "    for i in range(len(layers)-1, -1, -1):\n",
    "        if i != len(layers) - 1:\n",
    "            grad = np.multiply(grad, np.heaviside(hidden[i+1], 0))\n",
    "\n",
    "        w_grad = hidden[i].T @ grad\n",
    "        b_grad = np.mean(grad, axis=0)\n",
    "\n",
    "        layers[i][0] -= w_grad * lr\n",
    "        layers[i][1] -= b_grad * lr\n",
    "        \n",
    "        grad = grad @ layers[i][0].T\n",
    "    return layers"
   ]
  },
  {
   "cell_type": "code",
   "execution_count": 63,
   "metadata": {},
   "outputs": [
    {
     "name": "stdout",
     "output_type": "stream",
     "text": [
      "Epoch: 0 Train MSE: 3326.3297335049374 Valid MSE: 1755.4470602153526\n",
      "Epoch: 1 Train MSE: 362.89497608319425 Valid MSE: 26.840395556176702\n",
      "Epoch: 2 Train MSE: 23.59013761561438 Valid MSE: 21.54847346217074\n",
      "Epoch: 3 Train MSE: 22.519173092178022 Valid MSE: 20.977840875811395\n",
      "Epoch: 4 Train MSE: 22.207601267843987 Valid MSE: 20.85514157403247\n",
      "Epoch: 5 Train MSE: 22.126903635916047 Valid MSE: 20.833498828792294\n",
      "Epoch: 6 Train MSE: 22.10484058765798 Valid MSE: 20.832659787310984\n",
      "Epoch: 7 Train MSE: 22.097770811474685 Valid MSE: 20.83508931161226\n",
      "Epoch: 8 Train MSE: 22.094559305598253 Valid MSE: 20.837343776177054\n",
      "Epoch: 9 Train MSE: 22.092595142460873 Valid MSE: 20.839140720288018\n"
     ]
    }
   ],
   "source": [
    "from statistics import mean\n",
    "\n",
    "lr = 1e-6\n",
    "epochs=10\n",
    "batch_size = 8\n",
    "\n",
    "layers = init_layers(layer_conf)\n",
    "\n",
    "for epoch in range(epochs):\n",
    "    epoch_loss = []\n",
    "\n",
    "    for i in range(0, train_x.shape[0], batch_size):\n",
    "        x_batch = train_x[i:(i+batch_size)]\n",
    "        y_batch = train_y[i:(i+batch_size)]\n",
    "        pred, hidden = forward(x_batch, layers)\n",
    "\n",
    "        loss = mse_grad(y_batch, pred)\n",
    "        epoch_loss.append(np.mean(loss ** 2))\n",
    "\n",
    "        layers = backward(layers, hidden, loss, lr)\n",
    "\n",
    "\n",
    "    valid_preds, _ = forward(valid_x, layers)\n",
    "\n",
    "    print(f\"Epoch: {epoch} Train MSE: {mean(epoch_loss)} Valid MSE: {np.mean(mse(valid_preds,valid_y))}\")"
   ]
  }
 ],
 "metadata": {
  "kernelspec": {
   "display_name": "Python 3",
   "language": "python",
   "name": "python3"
  },
  "language_info": {
   "codemirror_mode": {
    "name": "ipython",
    "version": 3
   },
   "file_extension": ".py",
   "mimetype": "text/x-python",
   "name": "python",
   "nbconvert_exporter": "python",
   "pygments_lexer": "ipython3",
   "version": "3.10.0"
  }
 },
 "nbformat": 4,
 "nbformat_minor": 2
}
